{
  "nbformat": 4,
  "nbformat_minor": 0,
  "metadata": {
    "colab": {
      "provenance": [],
      "mount_file_id": "1qO8Za05_7r3QFb1vBGedCamldxqex-ik",
      "authorship_tag": "ABX9TyNDYIoWnhvcM3mnvAlL6VbZ",
      "include_colab_link": true
    },
    "kernelspec": {
      "name": "python3",
      "display_name": "Python 3"
    },
    "language_info": {
      "name": "python"
    }
  },
  "cells": [
    {
      "cell_type": "markdown",
      "metadata": {
        "id": "view-in-github",
        "colab_type": "text"
      },
      "source": [
        "<a href=\"https://colab.research.google.com/github/NAyeshaKhan/EDD_audio/blob/main/TL_NasNet.ipynb\" target=\"_parent\"><img src=\"https://colab.research.google.com/assets/colab-badge.svg\" alt=\"Open In Colab\"/></a>"
      ]
    },
    {
      "cell_type": "code",
      "execution_count": null,
      "metadata": {
        "id": "PPnGr0N7M-pW"
      },
      "outputs": [],
      "source": [
        "import numpy as np\n",
        "import tensorflow as tf\n",
        "import torch\n",
        "from tensorflow.keras.preprocessing.image import ImageDataGenerator\n",
        "from tensorflow.keras.applications import NASNetMobile\n",
        "from tensorflow.keras.layers import Dense, GlobalAveragePooling2D\n",
        "from tensorflow.keras.models import Model\n",
        "from tensorflow.keras.optimizers import Adam\n",
        "from tensorflow.keras.layers import Dropout\n",
        "from tensorflow.keras.layers import BatchNormalization"
      ]
    },
    {
      "cell_type": "code",
      "source": [
        "BATCH = 32\n",
        "SIZE = 224\n",
        "SEED = 42\n",
        "\n",
        "EPOCHS = 10\n",
        "LR = 1e-6\n",
        "FILTERS = 6\n",
        "KERNEL = 3\n",
        "STRIDES = 1\n",
        "REGRATE = 0.0\n",
        "POOL = 2\n",
        "DORATE = 0.05\n",
        "NLABELS = 3\n",
        "DENSE1 = 128\n",
        "DENSE2 = 64\n",
        "# Define paths to your data\n",
        "train_dir =\"/content/drive/MyDrive/STFT_robo/train\"\n",
        "validation_dir =\"/content/drive/MyDrive/STFT/val\"\n",
        "\n",
        "BATCH_SIZE = 16\n",
        "IMG_SIZE = (224,224)\n",
        "\n",
        "train_dataset = tf.keras.utils.image_dataset_from_directory(train_dir, shuffle=True,\n",
        "                                                            batch_size=BATCH_SIZE, image_size=IMG_SIZE,\n",
        "                                                            label_mode='categorical'  # Ensure labels are one-hot encoded\n",
        "                                                            )\n",
        "validation_dataset = tf.keras.utils.image_dataset_from_directory(validation_dir,shuffle=True,\n",
        "                                                            batch_size=BATCH_SIZE, image_size=IMG_SIZE, label_mode='categorical'\n",
        "                                                            )\n",
        "class_names = train_dataset.class_names\n",
        "data_augmentation = tf.keras.Sequential([\n",
        "    tf.keras.layers.RandomRotation(factor=0.15),\n",
        "    tf.keras.layers.RandomFlip(),\n",
        "    tf.keras.layers.RandomContrast(factor=0.1),\n",
        "    tf.keras.layers.RandomZoom(height_factor=0.2, width_factor=0.2),\n",
        "    tf.keras.layers.RandomBrightness(factor=0.2)\n",
        "],\n",
        "    name=\"img_augmentation\",)\n",
        "\n",
        "\n",
        "backbone = tf.keras.applications.NASNetMobile(\n",
        "    input_shape=(SIZE, SIZE, 3),\n",
        "    include_top=False,\n",
        "    weights=\"imagenet\"\n",
        ")\n",
        "\n",
        "backbone.trainable = False\n",
        "# Unfreeze the top 20 layers while leaving BatchNorm layers frozen\n",
        "for layer in backbone.layers[-40:]:\n",
        "    if not isinstance(layer, BatchNormalization):\n",
        "        layer.trainable = True\n",
        "\n",
        "input = tf.keras.Input(shape=(SIZE,SIZE,3))\n",
        "x = data_augmentation(input)\n",
        "x = backbone(x, training=False)\n",
        "# Rebuild non-frozen top layers of NASNetMobile, which was initialized with include_top=False\n",
        "x = GlobalAveragePooling2D(name=\"avg_pool\")(x)\n",
        "x = BatchNormalization()(x)\n",
        "x = Dense(DENSE1, activation=\"relu\")(x)\n",
        "x = Dropout(DORATE)(x)  # Add dropout after dense layer\n",
        "x = Dense(DENSE2, activation=\"relu\")(x)\n",
        "x = Dropout(DORATE)(x)  # Add dropout after dense layer\n",
        "output = Dense(3, activation=\"softmax\", name=\"pred\")(x)\n",
        "\n",
        "nasnet_model = Model(input, output, name=\"NASNetMobile\")\n",
        "early_stopping_callback = tf.keras.callbacks.EarlyStopping(\n",
        "    monitor='val_loss',\n",
        "    patience=5,\n",
        "    restore_best_weights=True\n",
        ")\n",
        "\n",
        "# Save the best model based on validation accuracy\n",
        "checkpoint_callback = tf.keras.callbacks.ModelCheckpoint(\n",
        "    'best_model.keras',\n",
        "    monitor='val_accuracy',\n",
        "    save_best_only=True\n",
        ")\n",
        "\n",
        "loss_function = tf.keras.losses.CategoricalCrossentropy()\n",
        "\n",
        "metrics = [tf.keras.metrics.CategoricalAccuracy(name='accuracy')]\n",
        "\n",
        "nasnet_model.compile(\n",
        "    optimizer = Adam(learning_rate=LR, clipnorm=1.0),\n",
        "    loss = loss_function,\n",
        "    metrics = metrics\n",
        ")\n",
        "\n",
        "tf.config.run_functions_eagerly(True)\n",
        "# Using a learning rate scheduler\n",
        "lr_schedule = tf.keras.callbacks.LearningRateScheduler(\n",
        "    lambda epoch: LR * 0.9 ** epoch\n",
        ")\n",
        "\n",
        "nasnet_history = nasnet_model.fit(\n",
        "    train_dataset,\n",
        "    validation_data = validation_dataset,\n",
        "    epochs = EPOCHS,\n",
        "    verbose = 1,\n",
        "    # callbacks=[checkpoint_callback, early_stopping_callback]\n",
        ")\n",
        "\n",
        "nasnet_model.evaluate(validation_dataset)\n",
        "# loss: 3.2046 - accuracy: 0.1838\n"
      ],
      "metadata": {
        "colab": {
          "base_uri": "https://localhost:8080/"
        },
        "id": "OMAxSaENSuk7",
        "outputId": "b2471234-5024-4ee3-c5c7-e489e342b20d"
      },
      "execution_count": null,
      "outputs": [
        {
          "output_type": "stream",
          "name": "stdout",
          "text": [
            "Found 756 files belonging to 3 classes.\n",
            "Found 236 files belonging to 3 classes.\n"
          ]
        },
        {
          "output_type": "stream",
          "name": "stderr",
          "text": [
            "/usr/local/lib/python3.10/dist-packages/tensorflow/python/data/ops/structured_function.py:258: UserWarning: Even though the `tf.config.experimental_run_functions_eagerly` option is set, this option does not apply to tf.data functions. To force eager execution of tf.data functions, please use `tf.data.experimental.enable_debug_mode()`.\n",
            "  warnings.warn(\n"
          ]
        },
        {
          "output_type": "stream",
          "name": "stdout",
          "text": [
            "Epoch 1/10\n",
            "\u001b[1m48/48\u001b[0m \u001b[32m━━━━━━━━━━━━━━━━━━━━\u001b[0m\u001b[37m\u001b[0m \u001b[1m379s\u001b[0m 8s/step - accuracy: 0.3716 - loss: 1.1660 - val_accuracy: 0.3347 - val_loss: 1.1196\n",
            "Epoch 2/10\n",
            "\u001b[1m48/48\u001b[0m \u001b[32m━━━━━━━━━━━━━━━━━━━━\u001b[0m\u001b[37m\u001b[0m \u001b[1m379s\u001b[0m 8s/step - accuracy: 0.3118 - loss: 1.1977 - val_accuracy: 0.3390 - val_loss: 1.1068\n",
            "Epoch 3/10\n",
            "\u001b[1m48/48\u001b[0m \u001b[32m━━━━━━━━━━━━━━━━━━━━\u001b[0m\u001b[37m\u001b[0m \u001b[1m393s\u001b[0m 8s/step - accuracy: 0.3348 - loss: 1.1769 - val_accuracy: 0.3432 - val_loss: 1.1045\n",
            "Epoch 4/10\n",
            "\u001b[1m48/48\u001b[0m \u001b[32m━━━━━━━━━━━━━━━━━━━━\u001b[0m\u001b[37m\u001b[0m \u001b[1m439s\u001b[0m 8s/step - accuracy: 0.3722 - loss: 1.1825 - val_accuracy: 0.3432 - val_loss: 1.1041\n",
            "Epoch 5/10\n",
            "\u001b[1m48/48\u001b[0m \u001b[32m━━━━━━━━━━━━━━━━━━━━\u001b[0m\u001b[37m\u001b[0m \u001b[1m447s\u001b[0m 8s/step - accuracy: 0.3160 - loss: 1.2141 - val_accuracy: 0.3475 - val_loss: 1.1061\n",
            "Epoch 6/10\n",
            "\u001b[1m48/48\u001b[0m \u001b[32m━━━━━━━━━━━━━━━━━━━━\u001b[0m\u001b[37m\u001b[0m \u001b[1m435s\u001b[0m 8s/step - accuracy: 0.3182 - loss: 1.2290 - val_accuracy: 0.3390 - val_loss: 1.1091\n",
            "Epoch 7/10\n",
            "\u001b[1m48/48\u001b[0m \u001b[32m━━━━━━━━━━━━━━━━━━━━\u001b[0m\u001b[37m\u001b[0m \u001b[1m387s\u001b[0m 8s/step - accuracy: 0.3370 - loss: 1.2286 - val_accuracy: 0.3475 - val_loss: 1.1120\n",
            "Epoch 8/10\n",
            "\u001b[1m48/48\u001b[0m \u001b[32m━━━━━━━━━━━━━━━━━━━━\u001b[0m\u001b[37m\u001b[0m \u001b[1m435s\u001b[0m 8s/step - accuracy: 0.3252 - loss: 1.1852 - val_accuracy: 0.3475 - val_loss: 1.1114\n",
            "Epoch 9/10\n",
            "\u001b[1m48/48\u001b[0m \u001b[32m━━━━━━━━━━━━━━━━━━━━\u001b[0m\u001b[37m\u001b[0m \u001b[1m384s\u001b[0m 8s/step - accuracy: 0.3194 - loss: 1.2125 - val_accuracy: 0.3347 - val_loss: 1.1158\n",
            "Epoch 10/10\n",
            "\u001b[1m48/48\u001b[0m \u001b[32m━━━━━━━━━━━━━━━━━━━━\u001b[0m\u001b[37m\u001b[0m \u001b[1m382s\u001b[0m 8s/step - accuracy: 0.3321 - loss: 1.1940 - val_accuracy: 0.3517 - val_loss: 1.1179\n",
            "\u001b[1m15/15\u001b[0m \u001b[32m━━━━━━━━━━━━━━━━━━━━\u001b[0m\u001b[37m\u001b[0m \u001b[1m37s\u001b[0m 2s/step - accuracy: 0.3233 - loss: 1.1410\n"
          ]
        },
        {
          "output_type": "execute_result",
          "data": {
            "text/plain": [
              "[1.1179307699203491, 0.35169491171836853]"
            ]
          },
          "metadata": {},
          "execution_count": 15
        }
      ]
    },
    {
      "cell_type": "code",
      "source": [
        "import matplotlib.pyplot as plt\n",
        "plt.plot(nasnet_history.history['loss'])\n",
        "plt.plot(nasnet_history.history['val_loss'])\n",
        "plt.title('Model Loss')\n",
        "plt.ylabel('loss')\n",
        "plt.xlabel('epoch')\n",
        "plt.legend(['train_loss', 'val_loss'])\n",
        "plt.savefig('NASNetMobile_FT_01.webp', bbox_inches='tight')"
      ],
      "metadata": {
        "colab": {
          "base_uri": "https://localhost:8080/",
          "height": 472
        },
        "id": "gwi9BSJcbDBY",
        "outputId": "f1b2b665-eaeb-4f97-ce8d-266dcac53b72"
      },
      "execution_count": null,
      "outputs": [
        {
          "output_type": "display_data",
          "data": {
            "text/plain": [
              "<Figure size 640x480 with 1 Axes>"
            ],
            "image/png": "[encoded data removed]"
          },
          "metadata": {}
        }
      ]
    },
    {
      "cell_type": "code",
      "source": [
        "# Define paths to your data\n",
        "train_dir =\"/content/drive/MyDrive/STFT/train\"\n",
        "validation_dir =\"/content/drive/MyDrive/STFT/val\"\n",
        "#TRY CWTS TOO??\n",
        "# Image data generator with preprocessing\n",
        "train_datagen = ImageDataGenerator(\n",
        "    rescale=1.0/255,  # Normalize image pixels to [0, 1]\n",
        "    rotation_range=40,\n",
        "    width_shift_range=0.3,\n",
        "    height_shift_range=0.3,\n",
        "    shear_range=0.3,\n",
        "    zoom_range=0.3,\n",
        "    horizontal_flip=True,\n",
        "    fill_mode='nearest'\n",
        ")\n",
        "\n",
        "validation_datagen = ImageDataGenerator(\n",
        "    rescale=1.0/255\n",
        ")\n",
        "\n",
        "# Load data from directories\n",
        "train_generator = train_datagen.flow_from_directory(\n",
        "    train_dir,\n",
        "    target_size=(224, 224),  # Size for NasNetMobile\n",
        "    batch_size=32,\n",
        "    class_mode='categorical')\n",
        "\n",
        "validation_generator = validation_datagen.flow_from_directory(\n",
        "    validation_dir,\n",
        "    target_size=(224, 224),\n",
        "    batch_size=32,\n",
        "    class_mode='categorical'\n",
        ")\n",
        "\n",
        "# Set the device to GPU if available\n",
        "device = torch.device('cuda' if torch.cuda.is_available() else 'cpu')\n",
        "print('Using device:', device)"
      ],
      "metadata": {
        "colab": {
          "base_uri": "https://localhost:8080/"
        },
        "id": "TEmvrWJ0Nvrx",
        "outputId": "d5a535b7-0fed-4a97-a9a3-20edeb19427a"
      },
      "execution_count": null,
      "outputs": [
        {
          "output_type": "stream",
          "name": "stdout",
          "text": [
            "Found 249 images belonging to 3 classes.\n",
            "Found 236 images belonging to 3 classes.\n",
            "Using device: cpu\n"
          ]
        }
      ]
    },
    {
      "cell_type": "code",
      "source": [
        "# Load pre-trained NasNetMobile model without the top classification layer\n",
        "base_model = NASNetMobile(weights='imagenet', include_top=False, input_shape=(224, 224, 3))\n",
        "\n",
        "x = base_model.output\n",
        "x = GlobalAveragePooling2D()(x)\n",
        "x = Dense(1024, activation='softmax')(x)\n",
        "x = BatchNormalization()(x)  # Add batch normalization\n",
        "x = Dropout(0.5)(x)  # Add dropout to prevent overfitting\n",
        "predictions = Dense(3, activation='softmax')(x)  # Use 'sigmoid' for binary classification\n",
        "\n",
        "# Create the model\n",
        "model = Model(inputs=base_model.input, outputs=predictions)\n",
        "\n",
        "# Freeze the base model layers\n",
        "for layer in base_model.layers[-20:]:  # Unfreeze the last 20 layers\n",
        "    layer.trainable = True"
      ],
      "metadata": {
        "id": "yL4fviKhgHcB"
      },
      "execution_count": null,
      "outputs": []
    },
    {
      "cell_type": "code",
      "source": [
        "from tensorflow.keras.callbacks import LearningRateScheduler\n",
        "\n",
        "def lr_scheduler(epoch, lr):\n",
        "    if epoch < 5:\n",
        "        return lr\n",
        "    else:\n",
        "        return lr * tf.math.exp(-0.1)\n",
        "\n",
        "lr_scheduler_callback = LearningRateScheduler(lr_scheduler)\n",
        "# Compile the model\n",
        "model.compile(optimizer=Adam(learning_rate=0.0001),\n",
        "              loss='categorical_crossentropy',\n",
        "              metrics=['accuracy'])\n",
        "\n",
        "# Train the model\n",
        "history = model.fit(\n",
        "    train_generator,\n",
        "    epochs=10,\n",
        "    validation_data=validation_generator\n",
        ")\n",
        "\n",
        "# Evaluate the model\n",
        "loss, accuracy = model.evaluate(validation_generator)\n",
        "print(f\"Validation Loss: {loss:.4f}, Validation Accuracy: {accuracy:.4f}\")\n"
      ],
      "metadata": {
        "colab": {
          "base_uri": "https://localhost:8080/"
        },
        "id": "7t1UpgGc2HiC",
        "outputId": "d9653edd-988b-47d6-c5a5-856b0769f915"
      },
      "execution_count": null,
      "outputs": [
        {
          "output_type": "stream",
          "name": "stdout",
          "text": [
            "Epoch 1/10\n"
          ]
        },
        {
          "output_type": "stream",
          "name": "stderr",
          "text": [
            "/usr/local/lib/python3.10/dist-packages/tensorflow/python/data/ops/structured_function.py:258: UserWarning: Even though the `tf.config.experimental_run_functions_eagerly` option is set, this option does not apply to tf.data functions. To force eager execution of tf.data functions, please use `tf.data.experimental.enable_debug_mode()`.\n",
            "  warnings.warn(\n",
            "/usr/local/lib/python3.10/dist-packages/keras/src/trainers/data_adapters/py_dataset_adapter.py:121: UserWarning: Your `PyDataset` class should call `super().__init__(**kwargs)` in its constructor. `**kwargs` can include `workers`, `use_multiprocessing`, `max_queue_size`. Do not pass these arguments to `fit()`, as they will be ignored.\n",
            "  self._warn_if_super_not_called()\n"
          ]
        },
        {
          "output_type": "stream",
          "name": "stdout",
          "text": [
            "\u001b[1m8/8\u001b[0m \u001b[32m━━━━━━━━━━━━━━━━━━━━\u001b[0m\u001b[37m\u001b[0m \u001b[1m181s\u001b[0m 21s/step - accuracy: 0.3683 - loss: 1.0975 - val_accuracy: 0.3347 - val_loss: 1.0986\n",
            "Epoch 2/10\n",
            "\u001b[1m8/8\u001b[0m \u001b[32m━━━━━━━━━━━━━━━━━━━━\u001b[0m\u001b[37m\u001b[0m \u001b[1m192s\u001b[0m 21s/step - accuracy: 0.3809 - loss: 1.0967 - val_accuracy: 0.3347 - val_loss: 1.0986\n",
            "Epoch 3/10\n",
            "\u001b[1m8/8\u001b[0m \u001b[32m━━━━━━━━━━━━━━━━━━━━\u001b[0m\u001b[37m\u001b[0m \u001b[1m202s\u001b[0m 21s/step - accuracy: 0.3629 - loss: 1.0965 - val_accuracy: 0.3347 - val_loss: 1.0986\n",
            "Epoch 4/10\n",
            "\u001b[1m8/8\u001b[0m \u001b[32m━━━━━━━━━━━━━━━━━━━━\u001b[0m\u001b[37m\u001b[0m \u001b[1m205s\u001b[0m 21s/step - accuracy: 0.3887 - loss: 1.0945 - val_accuracy: 0.3347 - val_loss: 1.0986\n",
            "Epoch 5/10\n",
            "\u001b[1m8/8\u001b[0m \u001b[32m━━━━━━━━━━━━━━━━━━━━\u001b[0m\u001b[37m\u001b[0m \u001b[1m212s\u001b[0m 23s/step - accuracy: 0.4395 - loss: 1.0901 - val_accuracy: 0.3220 - val_loss: 1.0986\n",
            "Epoch 6/10\n",
            "\u001b[1m8/8\u001b[0m \u001b[32m━━━━━━━━━━━━━━━━━━━━\u001b[0m\u001b[37m\u001b[0m \u001b[1m192s\u001b[0m 22s/step - accuracy: 0.4312 - loss: 1.0891 - val_accuracy: 0.3093 - val_loss: 1.0986\n",
            "Epoch 7/10\n",
            "\u001b[1m8/8\u001b[0m \u001b[32m━━━━━━━━━━━━━━━━━━━━\u001b[0m\u001b[37m\u001b[0m \u001b[1m200s\u001b[0m 21s/step - accuracy: 0.3628 - loss: 1.0944 - val_accuracy: 0.3136 - val_loss: 1.0986\n",
            "Epoch 8/10\n",
            "\u001b[1m8/8\u001b[0m \u001b[32m━━━━━━━━━━━━━━━━━━━━\u001b[0m\u001b[37m\u001b[0m \u001b[1m177s\u001b[0m 22s/step - accuracy: 0.3897 - loss: 1.0829 - val_accuracy: 0.3347 - val_loss: 1.0986\n",
            "Epoch 9/10\n",
            "\u001b[1m8/8\u001b[0m \u001b[32m━━━━━━━━━━━━━━━━━━━━\u001b[0m\u001b[37m\u001b[0m \u001b[1m202s\u001b[0m 22s/step - accuracy: 0.3804 - loss: 1.0862 - val_accuracy: 0.3347 - val_loss: 1.0985\n",
            "Epoch 10/10\n",
            "\u001b[1m8/8\u001b[0m \u001b[32m━━━━━━━━━━━━━━━━━━━━\u001b[0m\u001b[37m\u001b[0m \u001b[1m204s\u001b[0m 22s/step - accuracy: 0.3991 - loss: 1.0829 - val_accuracy: 0.3220 - val_loss: 1.0985\n",
            "\u001b[1m8/8\u001b[0m \u001b[32m━━━━━━━━━━━━━━━━━━━━\u001b[0m\u001b[37m\u001b[0m \u001b[1m32s\u001b[0m 4s/step - accuracy: 0.3453 - loss: 1.0983\n",
            "Validation Loss: 1.0985, Validation Accuracy: 0.3220\n"
          ]
        }
      ]
    }
  ]
}