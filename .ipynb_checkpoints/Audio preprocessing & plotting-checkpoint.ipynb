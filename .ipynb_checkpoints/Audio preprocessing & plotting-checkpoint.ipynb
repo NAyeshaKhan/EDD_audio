{
 "cells": [
  {
   "cell_type": "code",
   "execution_count": 1,
   "id": "1080a6e3-665e-4127-a186-346588f7aed2",
   "metadata": {},
   "outputs": [],
   "source": [
    "import os\n",
    "import librosa\n",
    "import librosa.display\n",
    "import IPython.display as ipd\n",
    "\n",
    "import pandas as pd\n",
    "import numpy as np\n",
    "import matplotlib.pyplot as plt\n",
    "import seaborn as sns\n",
    "from glob import glob\n",
    "from scipy.signal import butter, filtfilt, lfilter\n",
    "import pywt\n",
    "import gc"
   ]
  },
  {
   "cell_type": "code",
   "execution_count": 2,
   "id": "802d0188-ea05-47f9-894c-c18e22a75658",
   "metadata": {},
   "outputs": [],
   "source": [
    "#audio_files=glob(\"C:/Users/User/EDD_audio/EATD-Corpus/*/*.wav\")\n",
    "##ipd.Audio(audio_files[0])\n",
    "#y, sr=librosa.load(audio_files[0]) #The raw output is y, sample rate is sr\n",
    "\n",
    "##pd.Series(y).plot(figsize=(10,5), lw=1, title=\"Raw audio example\")\n",
    "#y_trimmed, _= librosa.effects.trim(y, top_db=20)\n",
    "##pd.Series(y_trimmed).plot(figsize=(10,5), lw=1, title=\"Raw audio trimmed example\", color=color_pal[1])\n",
    "#pd.Series(y_trimmed[5000:10000]).plot(figsize=(10,5), lw=1, title=\"Raw audio zoomed in example\")"
   ]
  },
  {
   "cell_type": "code",
   "execution_count": 2,
   "id": "c2ad8980-aa95-4406-ac3e-e94432045357",
   "metadata": {},
   "outputs": [],
   "source": [
    "#Functions for pre-processing\n",
    "def load_audio(audio_path, target_sr=16000):\n",
    "    y, sr = librosa.load(audio_path, sr=target_sr)\n",
    "    return y, sr\n",
    "    \n",
    "def butter_lowpass_filter(y, sample_rate, low_freq=300, high_freq=3400, order=4):\n",
    "    nyquist = 0.5 * sample_rate\n",
    "    low = low_freq / nyquist\n",
    "    high = high_freq / nyquist\n",
    "    \n",
    "    b, a = butter(order, [low, high], btype='band')\n",
    "    y_filtered = lfilter(b, a, y)\n",
    "    return y_filtered\n",
    "\n",
    "def pad_or_trim(y, target_length):\n",
    "    if len(y) > target_length:\n",
    "        return y[:target_length]\n",
    "    else:\n",
    "        padding_length = target_length - len(y)\n",
    "        pad_before = padding_length // 2\n",
    "        pad_after = padding_length - pad_before\n",
    "        return np.pad(y, (pad_before, pad_after), mode='constant')\n",
    "\n",
    "# Load audio file using librosa & resample them to a constant sampling rate\n",
    "def preprocess_audio(file_path, target_length=220500, sr=22050):\n",
    "    y, _ = librosa.load(file_path, sr=sr, duration=4)\n",
    "    y = butter_lowpass_filter(y, sample_rate=sr)\n",
    "    y = pad_or_trim(y, target_length)\n",
    "    return y, sr  \n",
    "\n",
    "def process_batch(file_paths, target_length=220500, sr=22050):\n",
    "    #Process a batch of audio files: load, filter, pad, and trim each file.\n",
    "    #Returns: A numpy array containing all processed audio files in the batch.\n",
    "    processed_batch = []\n",
    "    for file_path in file_paths:\n",
    "        y, _ = preprocess_audio(file_path, target_length, sr)\n",
    "        processed_batch.append(y)\n",
    "    return np.array(processed_batch)\n",
    "\n",
    "def process_all_files_in_batches(file_paths, batch_size, target_length=220500, sr=22050):\n",
    "    #Process all audio files in a directory in batches. Yields batches of processed audio files.\n",
    "    # Ensure we have files to process\n",
    "    if not file_paths:\n",
    "        raise ValueError(\"No .wav files found in the specified directory.\")\n",
    "    # Process files in batches\n",
    "    for i in range(0, len(file_paths), batch_size):\n",
    "        batch_files = file_paths[i:i + batch_size]\n",
    "        processed_batch = process_batch(batch_files, target_length, sr)\n",
    "        yield processed_batch"
   ]
  },
  {
   "cell_type": "code",
   "execution_count": 3,
   "id": "6d5647c7-ad3f-435f-8ddc-57b716f50902",
   "metadata": {},
   "outputs": [],
   "source": [
    "#Functions to plot spectrograms\n",
    "def plot_waveform(y, sr, title=\"Waveform\", save_path=None):\n",
    "    plt.figure(figsize=(10, 4))\n",
    "    librosa.display.waveshow(y, sr=sr)\n",
    "    plt.title(title)\n",
    "    plt.xlabel(\"Time\")\n",
    "    plt.ylabel(\"Amplitude\")\n",
    "    plt.tight_layout()\n",
    "    if save_path:\n",
    "        plt.savefig(save_path)\n",
    "    else:\n",
    "        plt.show()\n",
    "    plt.close()\n",
    "    gc.collect()  # Explicitly request garbage collection\n",
    "\n",
    "def plot_fourier_transform(y, sr, title=\"Fourier Transform\", save_path=None):\n",
    "    # Compute the Fourier Transform\n",
    "    N = len(y)\n",
    "    T = 1.0 / sr\n",
    "    yf = np.fft.fft(y)\n",
    "    xf = np.fft.fftfreq(N, T)\n",
    "    magnitude = np.abs(yf)\n",
    "    \n",
    "    # Plot the magnitude spectrum\n",
    "    plt.figure(figsize=(12, 6))\n",
    "    plt.plot(xf[:N//2], magnitude[:N//2])  # Plot only the positive frequencies\n",
    "    plt.title(title)\n",
    "    plt.xlabel('Frequency (Hz)')\n",
    "    plt.ylabel('Magnitude')\n",
    "    plt.grid()\n",
    "    \n",
    "    if save_path:\n",
    "        plt.savefig(save_path)\n",
    "    else:\n",
    "        plt.show()\n",
    "    plt.close()\n",
    "    gc.collect()  # Explicitly request garbage collection\n",
    "\n",
    "def plot_stft_spectro(y, sr, title=\"Spectrogram\", save_path=None):\n",
    "    plt.figure(figsize=(10, 4))\n",
    "    spec = np.abs(librosa.stft(y))\n",
    "    spec_db = librosa.amplitude_to_db(spec, ref=np.max)\n",
    "\n",
    "    librosa.display.specshow(spec_db, sr=sr, x_axis='time', y_axis='log')\n",
    "    plt.colorbar(format='%+2.0f dB')\n",
    "    plt.title(title)\n",
    "    plt.tight_layout()\n",
    "    if save_path:\n",
    "        plt.savefig(save_path)\n",
    "    else:\n",
    "        plt.show()\n",
    "    plt.close()\n",
    "    gc.collect()  # Explicitly request garbage collection\n",
    "\n",
    "def plot_cwt_spectro(y, sr, wavelet='cmor', scales=None, title=\"CWT Spectrogram\", save_path=None):\n",
    "    if scales is None:\n",
    "        # Define a range of scales\n",
    "        scales = np.arange(1, 128)\n",
    "    # Compute the Continuous Wavelet Transform\n",
    "    coefficients, _ = pywt.cwt(y, scales, wavelet, sampling_period=1/sr)\n",
    "    power = np.abs(coefficients) ** 2\n",
    "    # Plot the CWT spectrogram\n",
    "    plt.figure(figsize=(12, 6))\n",
    "    plt.imshow(power, extent=[0, len(y)/sr, 1, 128], aspect='auto', cmap='jet', origin='lower')\n",
    "    plt.colorbar(label='Power (dB)')\n",
    "    plt.title(title)\n",
    "    plt.xlabel('Time (s)')\n",
    "    plt.ylabel('Scale')\n",
    "\n",
    "    if save_path:\n",
    "        plt.savefig(save_path)\n",
    "    else:\n",
    "        plt.show()\n",
    "    plt.close()\n",
    "    gc.collect()  # Explicitly request garbage collection\n",
    "\n",
    "def preprocess_and_plot_batches(file_paths, batch_size=5, sr=22050, wavelet='cmor', scales=None):\n",
    "   #Process audio files in batches to generate and save waveform, Fourier transform, STFT spectrogram, and CWT spectrogram images.\n",
    "    for i in range(0, len(file_paths), batch_size):\n",
    "        batch_files = file_paths[i:i + batch_size]\n",
    "        for audio_file in batch_files:\n",
    "            # Load the audio file\n",
    "            y, sr = librosa.load(audio_file, sr=sr)\n",
    "            \n",
    "            # Generate plots\n",
    "            parent_dir = os.path.basename(os.path.dirname(audio_file))\n",
    "            waveform_image_path = os.path.splitext(audio_file)[0] +'-'+ parent_dir +'_waveform.png'\n",
    "            ft_image_path = os.path.splitext(audio_file)[0] +'-'+ parent_dir+ '_FT_spectro.png'\n",
    "            stft_image_path = os.path.splitext(audio_file)[0] +'-'+ parent_dir+ '_STFT_spectro.png'\n",
    "            #cwt_image_path = os.path.splitext(audio_file)[0] +'-'+ parent_dir+ '_CWT_spectro.png'\n",
    "            \n",
    "            plot_waveform(y, sr, title=\"Waveform\", save_path=waveform_image_path)\n",
    "            plot_stft_spectro(y, sr, title=\"STFT Spectrogram\", save_path=stft_image_path)\n",
    "            #plot_cwt_spectro(audio, sr, title=\"CWT Spectrogram\", save_path=cwt_image_path)\n",
    "            plot_fourier_transform(y, sr, title=\"FT Spectrogram\", save_path=ft_image_path)\n",
    "        print(f\"Processed batch {i // batch_size + 1} of {len(file_paths) // batch_size + 1}\")"
   ]
  },
  {
   "cell_type": "code",
   "execution_count": 4,
   "id": "974cbeb1-cc99-41af-8807-173ea7110634",
   "metadata": {
    "scrolled": true
   },
   "outputs": [
    {
     "name": "stdout",
     "output_type": "stream",
     "text": [
      "Processed batch of shape: (16, 220500)\n",
      "Processed batch of shape: (16, 220500)\n",
      "Processed batch of shape: (16, 220500)\n",
      "Processed batch of shape: (16, 220500)\n",
      "Processed batch of shape: (16, 220500)\n",
      "Processed batch of shape: (16, 220500)\n",
      "Processed batch of shape: (16, 220500)\n",
      "Processed batch of shape: (16, 220500)\n",
      "Processed batch of shape: (16, 220500)\n",
      "Processed batch of shape: (16, 220500)\n",
      "Processed batch of shape: (16, 220500)\n",
      "Processed batch of shape: (16, 220500)\n",
      "Processed batch of shape: (16, 220500)\n",
      "Processed batch of shape: (16, 220500)\n",
      "Processed batch of shape: (16, 220500)\n",
      "Processed batch of shape: (9, 220500)\n"
     ]
    }
   ],
   "source": [
    "#Pre-process the training audio files in batches of 16\n",
    "train_files = glob(os.path.join(\"EATD-Corpus/t_*\", '**/*out.wav').replace('\\\\','/'), recursive=True)\n",
    "for batch in process_all_files_in_batches(train_files, batch_size=16):\n",
    "    print(f'Processed batch of shape: {batch.shape}')"
   ]
  },
  {
   "cell_type": "code",
   "execution_count": 9,
   "id": "285ae9a2-bd76-4c1b-9816-8d8665314a62",
   "metadata": {},
   "outputs": [
    {
     "name": "stdout",
     "output_type": "stream",
     "text": [
      "Processed batch 1 of 5\n",
      "Processed batch 2 of 5\n",
      "Processed batch 3 of 5\n",
      "Processed batch 4 of 5\n",
      "Processed batch 5 of 5\n"
     ]
    }
   ],
   "source": [
    "file_paths = glob(os.path.join(\"EATD-Corpus/t_9*\", '**/*out.wav').replace('\\\\','/'), recursive=True)\n",
    "preprocess_and_plot_batches(file_paths, batch_size=5)"
   ]
  },
  {
   "cell_type": "code",
   "execution_count": 5,
   "id": "af27093c-328d-42ac-b0d6-63a88b6d5742",
   "metadata": {},
   "outputs": [
    {
     "name": "stdout",
     "output_type": "stream",
     "text": [
      "Processed batch of shape: (16, 220500)\n",
      "Processed batch of shape: (16, 220500)\n",
      "Processed batch of shape: (16, 220500)\n",
      "Processed batch of shape: (16, 220500)\n",
      "Processed batch of shape: (16, 220500)\n",
      "Processed batch of shape: (16, 220500)\n",
      "Processed batch of shape: (16, 220500)\n",
      "Processed batch of shape: (16, 220500)\n",
      "Processed batch of shape: (16, 220500)\n",
      "Processed batch of shape: (16, 220500)\n",
      "Processed batch of shape: (16, 220500)\n",
      "Processed batch of shape: (16, 220500)\n",
      "Processed batch of shape: (16, 220500)\n",
      "Processed batch of shape: (16, 220500)\n",
      "Processed batch of shape: (13, 220500)\n"
     ]
    }
   ],
   "source": [
    "#Pre-process the validatio audio files in batches of 16\n",
    "val_files = glob(os.path.join(\"EATD-Corpus/v_*\", '**/*out.wav').replace('\\\\','/'), recursive=True)\n",
    "for batch in process_all_files_in_batches(val_files, batch_size=16):\n",
    "    print(f'Processed batch of shape: {batch.shape}')"
   ]
  },
  {
   "cell_type": "code",
   "execution_count": null,
   "id": "68d7cd54-ab2d-4391-9a29-753b15b3ef17",
   "metadata": {
    "scrolled": true
   },
   "outputs": [],
   "source": [
    "file_paths = glob(os.path.join(\"EATD-Corpus/v_9*\", '**/*out.wav').replace('\\\\','/'), recursive=True)\n",
    "preprocess_and_plot_batches(file_paths, batch_size=5)"
   ]
  },
  {
   "cell_type": "code",
   "execution_count": null,
   "id": "3befc17e-cc47-442a-adab-0f3c6db5b677",
   "metadata": {},
   "outputs": [],
   "source": [
    "#files_in_directory = os.listdir(\"EATD-Corpus\")\n",
    "#train_files = glob(os.path.join(\"EATD-Corpus/t_3*\", '**/*out.wav').replace('\\\\','/'), recursive=True)\n",
    "#train_files = glob(os.path.join(\"EATD-Corpus/t_4*\", '**/*out.wav').replace('\\\\','/'), recursive=True)\n",
    "\n",
    "for audio_file in train_files:\n",
    "    # Load audio file\n",
    "    audio, sr = load_audio(audio_file)\n",
    "    # Generate plots\n",
    "    parent_dir = os.path.basename(os.path.dirname(audio_file))\n",
    "    cwt_image_path = os.path.splitext(audio_file)[0] +'-'+ parent_dir+ '_CWT_spectro.png'\n",
    "    plot_cwt_spectro(audio, sr, title=\"CWT Spectrogram\", save_path=cwt_image_path)\n",
    "    print(cwt_image_path)"
   ]
  },
  {
   "cell_type": "code",
   "execution_count": null,
   "id": "e57ad277-8a09-47ed-bd26-c256d1490bf8",
   "metadata": {
    "scrolled": true
   },
   "outputs": [],
   "source": [
    "#files = librosa.util.find_files('EATD-Corpus')\n",
    "data_dir = glob(os.path.join(\"EATD-Corpus\", '**/*out.wav').replace('\\\\','/'), recursive=True)\n",
    "print(data_dir)\n",
    "preprocessed_data = preprocess_dataset(data_dir)\n",
    "preprocessed_data.to_csv('preprocessed_dataset.csv', index=False)"
   ]
  }
 ],
 "metadata": {
  "kernelspec": {
   "display_name": "Python 3 (ipykernel)",
   "language": "python",
   "name": "python3"
  },
  "language_info": {
   "codemirror_mode": {
    "name": "ipython",
    "version": 3
   },
   "file_extension": ".py",
   "mimetype": "text/x-python",
   "name": "python",
   "nbconvert_exporter": "python",
   "pygments_lexer": "ipython3",
   "version": "3.12.1"
  }
 },
 "nbformat": 4,
 "nbformat_minor": 5
}
