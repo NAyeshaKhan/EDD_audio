{
 "cells": [
  {
   "cell_type": "code",
   "execution_count": 3,
   "id": "cb756907-b249-4c71-9349-12b35b6136c3",
   "metadata": {},
   "outputs": [],
   "source": [
    "import numpy as np\n",
    "import matplotlib.pyplot as plt\n",
    "import os\n",
    "import librosa\n",
    "import IPython.display as ipd"
   ]
  },
  {
   "cell_type": "code",
   "execution_count": null,
   "id": "1790e604-9c81-4b5d-be96-00ae5cdb1120",
   "metadata": {},
   "outputs": [],
   "source": [
    "BASE_DIR=\"/EATD-Corpus/t_1\"\n",
    "neu_file=\"neutral_out.wav\"\n",
    "pos_file=\"positive_out.wav\"\n",
    "neg_file=\"negative_out.wav\""
   ]
  },
  {
   "cell_type": "code",
   "execution_count": null,
   "id": "b0c161d6-80fd-4670-9189-482d8db12cad",
   "metadata": {},
   "outputs": [],
   "source": []
  }
 ],
 "metadata": {
  "kernelspec": {
   "display_name": "Python 3 (ipykernel)",
   "language": "python",
   "name": "python3"
  },
  "language_info": {
   "codemirror_mode": {
    "name": "ipython",
    "version": 3
   },
   "file_extension": ".py",
   "mimetype": "text/x-python",
   "name": "python",
   "nbconvert_exporter": "python",
   "pygments_lexer": "ipython3",
   "version": "3.12.1"
  }
 },
 "nbformat": 4,
 "nbformat_minor": 5
}
